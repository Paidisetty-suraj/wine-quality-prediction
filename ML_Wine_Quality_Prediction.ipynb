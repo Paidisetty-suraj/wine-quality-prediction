{
  "nbformat": 4,
  "nbformat_minor": 0,
  "metadata": {
    "colab": {
      "name": "ML_Wine_Quality_Prediction",
      "provenance": [],
      "collapsed_sections": [],
      "toc_visible": true,
      "authorship_tag": "ABX9TyOgwT871mJVZFyS3OXniVUE",
      "include_colab_link": true
    },
    "kernelspec": {
      "display_name": "Python 3",
      "name": "python3"
    },
    "language_info": {
      "name": "python"
    }
  },
  "cells": [
    {
      "cell_type": "markdown",
      "metadata": {
        "id": "view-in-github",
        "colab_type": "text"
      },
      "source": [
        "<a href=\"https://colab.research.google.com/github/VinayKenguva/wine-quality-prediction/blob/main/ML_Wine_Quality_Prediction.ipynb\" target=\"_parent\"><img src=\"https://colab.research.google.com/assets/colab-badge.svg\" alt=\"Open In Colab\"/></a>"
      ]
    },
    {
      "cell_type": "markdown",
      "metadata": {
        "id": "Grp4hC07EOyJ"
      },
      "source": [
        "***WINE  QUALITY  PREDICTION (RED-WINE)***"
      ]
    },
    {
      "cell_type": "markdown",
      "metadata": {
        "id": "kppNJ0s3BtOT"
      },
      "source": [
        "**Using  Inbuilt  Linear Regression Model**"
      ]
    },
    {
      "cell_type": "code",
      "metadata": {
        "id": "QouQHvmaBnq4"
      },
      "source": [
        "# Importin necessary Libraries\n",
        "import pandas as pd\n",
        "import numpy as np\n",
        "import matplotlib.pyplot as plt\n",
        "import seaborn as sns\n",
        "from sklearn.model_selection import train_test_split\n",
        "from sklearn.linear_model import LinearRegression\n",
        "from sklearn import metrics\n",
        "from sklearn.metrics import accuracy_score\n",
        "%matplotlib inline"
      ],
      "execution_count": null,
      "outputs": []
    },
    {
      "cell_type": "code",
      "metadata": {
        "colab": {
          "base_uri": "https://localhost:8080/"
        },
        "id": "qGpuj--gCCfd",
        "outputId": "7c554a38-d081-43eb-9a31-f626537fd8b8"
      },
      "source": [
        "# creating dataframe and checking the existance of null values\n",
        "df1 = pd.read_csv('winequality-red.csv')\n",
        "print(df1.shape)\n",
        "df1.isnull().sum()\n"
      ],
      "execution_count": null,
      "outputs": [
        {
          "output_type": "stream",
          "name": "stdout",
          "text": [
            "(1599, 12)\n"
          ]
        },
        {
          "output_type": "execute_result",
          "data": {
            "text/plain": [
              "fixed_acidity           0\n",
              "volatile_acidity        0\n",
              "citric_acid             0\n",
              "residual_sugar          0\n",
              "chlorides               0\n",
              "free_sulfur_dioxide     0\n",
              "total_sulfur_dioxide    0\n",
              "density                 0\n",
              "pH                      0\n",
              "sulphates               0\n",
              "alcohol                 0\n",
              "quality                 0\n",
              "dtype: int64"
            ]
          },
          "metadata": {},
          "execution_count": 108
        }
      ]
    },
    {
      "cell_type": "code",
      "metadata": {
        "colab": {
          "base_uri": "https://localhost:8080/",
          "height": 315
        },
        "id": "f5x50HT4CIA2",
        "outputId": "c457e027-abd3-456a-97c9-f81f2c354716"
      },
      "source": [
        "df1.describe()"
      ],
      "execution_count": null,
      "outputs": [
        {
          "output_type": "execute_result",
          "data": {
            "text/html": [
              "<div>\n",
              "<style scoped>\n",
              "    .dataframe tbody tr th:only-of-type {\n",
              "        vertical-align: middle;\n",
              "    }\n",
              "\n",
              "    .dataframe tbody tr th {\n",
              "        vertical-align: top;\n",
              "    }\n",
              "\n",
              "    .dataframe thead th {\n",
              "        text-align: right;\n",
              "    }\n",
              "</style>\n",
              "<table border=\"1\" class=\"dataframe\">\n",
              "  <thead>\n",
              "    <tr style=\"text-align: right;\">\n",
              "      <th></th>\n",
              "      <th>fixed_acidity</th>\n",
              "      <th>volatile_acidity</th>\n",
              "      <th>citric_acid</th>\n",
              "      <th>residual_sugar</th>\n",
              "      <th>chlorides</th>\n",
              "      <th>free_sulfur_dioxide</th>\n",
              "      <th>total_sulfur_dioxide</th>\n",
              "      <th>density</th>\n",
              "      <th>pH</th>\n",
              "      <th>sulphates</th>\n",
              "      <th>alcohol</th>\n",
              "      <th>quality</th>\n",
              "    </tr>\n",
              "  </thead>\n",
              "  <tbody>\n",
              "    <tr>\n",
              "      <th>count</th>\n",
              "      <td>1599.000000</td>\n",
              "      <td>1599.000000</td>\n",
              "      <td>1599.000000</td>\n",
              "      <td>1599.000000</td>\n",
              "      <td>1599.000000</td>\n",
              "      <td>1599.000000</td>\n",
              "      <td>1599.000000</td>\n",
              "      <td>1599.000000</td>\n",
              "      <td>1599.000000</td>\n",
              "      <td>1599.000000</td>\n",
              "      <td>1599.000000</td>\n",
              "      <td>1599.000000</td>\n",
              "    </tr>\n",
              "    <tr>\n",
              "      <th>mean</th>\n",
              "      <td>8.319637</td>\n",
              "      <td>0.527821</td>\n",
              "      <td>0.270976</td>\n",
              "      <td>2.538806</td>\n",
              "      <td>0.087467</td>\n",
              "      <td>15.874922</td>\n",
              "      <td>46.467792</td>\n",
              "      <td>0.996747</td>\n",
              "      <td>3.311113</td>\n",
              "      <td>0.658149</td>\n",
              "      <td>10.422983</td>\n",
              "      <td>5.636023</td>\n",
              "    </tr>\n",
              "    <tr>\n",
              "      <th>std</th>\n",
              "      <td>1.741096</td>\n",
              "      <td>0.179060</td>\n",
              "      <td>0.194801</td>\n",
              "      <td>1.409928</td>\n",
              "      <td>0.047065</td>\n",
              "      <td>10.460157</td>\n",
              "      <td>32.895324</td>\n",
              "      <td>0.001887</td>\n",
              "      <td>0.154386</td>\n",
              "      <td>0.169507</td>\n",
              "      <td>1.065668</td>\n",
              "      <td>0.807569</td>\n",
              "    </tr>\n",
              "    <tr>\n",
              "      <th>min</th>\n",
              "      <td>4.600000</td>\n",
              "      <td>0.120000</td>\n",
              "      <td>0.000000</td>\n",
              "      <td>0.900000</td>\n",
              "      <td>0.012000</td>\n",
              "      <td>1.000000</td>\n",
              "      <td>6.000000</td>\n",
              "      <td>0.990070</td>\n",
              "      <td>2.740000</td>\n",
              "      <td>0.330000</td>\n",
              "      <td>8.400000</td>\n",
              "      <td>3.000000</td>\n",
              "    </tr>\n",
              "    <tr>\n",
              "      <th>25%</th>\n",
              "      <td>7.100000</td>\n",
              "      <td>0.390000</td>\n",
              "      <td>0.090000</td>\n",
              "      <td>1.900000</td>\n",
              "      <td>0.070000</td>\n",
              "      <td>7.000000</td>\n",
              "      <td>22.000000</td>\n",
              "      <td>0.995600</td>\n",
              "      <td>3.210000</td>\n",
              "      <td>0.550000</td>\n",
              "      <td>9.500000</td>\n",
              "      <td>5.000000</td>\n",
              "    </tr>\n",
              "    <tr>\n",
              "      <th>50%</th>\n",
              "      <td>7.900000</td>\n",
              "      <td>0.520000</td>\n",
              "      <td>0.260000</td>\n",
              "      <td>2.200000</td>\n",
              "      <td>0.079000</td>\n",
              "      <td>14.000000</td>\n",
              "      <td>38.000000</td>\n",
              "      <td>0.996750</td>\n",
              "      <td>3.310000</td>\n",
              "      <td>0.620000</td>\n",
              "      <td>10.200000</td>\n",
              "      <td>6.000000</td>\n",
              "    </tr>\n",
              "    <tr>\n",
              "      <th>75%</th>\n",
              "      <td>9.200000</td>\n",
              "      <td>0.640000</td>\n",
              "      <td>0.420000</td>\n",
              "      <td>2.600000</td>\n",
              "      <td>0.090000</td>\n",
              "      <td>21.000000</td>\n",
              "      <td>62.000000</td>\n",
              "      <td>0.997835</td>\n",
              "      <td>3.400000</td>\n",
              "      <td>0.730000</td>\n",
              "      <td>11.100000</td>\n",
              "      <td>6.000000</td>\n",
              "    </tr>\n",
              "    <tr>\n",
              "      <th>max</th>\n",
              "      <td>15.900000</td>\n",
              "      <td>1.580000</td>\n",
              "      <td>1.000000</td>\n",
              "      <td>15.500000</td>\n",
              "      <td>0.611000</td>\n",
              "      <td>72.000000</td>\n",
              "      <td>289.000000</td>\n",
              "      <td>1.003690</td>\n",
              "      <td>4.010000</td>\n",
              "      <td>2.000000</td>\n",
              "      <td>14.900000</td>\n",
              "      <td>8.000000</td>\n",
              "    </tr>\n",
              "  </tbody>\n",
              "</table>\n",
              "</div>"
            ],
            "text/plain": [
              "       fixed_acidity  volatile_acidity  ...      alcohol      quality\n",
              "count    1599.000000       1599.000000  ...  1599.000000  1599.000000\n",
              "mean        8.319637          0.527821  ...    10.422983     5.636023\n",
              "std         1.741096          0.179060  ...     1.065668     0.807569\n",
              "min         4.600000          0.120000  ...     8.400000     3.000000\n",
              "25%         7.100000          0.390000  ...     9.500000     5.000000\n",
              "50%         7.900000          0.520000  ...    10.200000     6.000000\n",
              "75%         9.200000          0.640000  ...    11.100000     6.000000\n",
              "max        15.900000          1.580000  ...    14.900000     8.000000\n",
              "\n",
              "[8 rows x 12 columns]"
            ]
          },
          "metadata": {},
          "execution_count": 109
        }
      ]
    },
    {
      "cell_type": "code",
      "metadata": {
        "colab": {
          "base_uri": "https://localhost:8080/",
          "height": 386
        },
        "id": "cjDrXPIMCJBE",
        "outputId": "b4c676ca-74b9-453f-e947-45ef45566c97"
      },
      "source": [
        "# number of values for each quality\n",
        "sns.catplot(x='quality', data = df1, kind = 'count')"
      ],
      "execution_count": null,
      "outputs": [
        {
          "output_type": "execute_result",
          "data": {
            "text/plain": [
              "<seaborn.axisgrid.FacetGrid at 0x7f697ec09dd0>"
            ]
          },
          "metadata": {},
          "execution_count": 110
        },
        {
          "output_type": "display_data",
          "data": {
            "image/png": "[encoded data removed]",
            "text/plain": [
              "<Figure size 360x360 with 1 Axes>"
            ]
          },
          "metadata": {
            "needs_background": "light"
          }
        }
      ]
    },
    {
      "cell_type": "code",
      "metadata": {
        "colab": {
          "base_uri": "https://localhost:8080/"
        },
        "id": "IqTGZMn7CJDh",
        "outputId": "3878c5aa-8592-46b4-e644-e9196445df3b"
      },
      "source": [
        "# values taken by output\n",
        "df1['quality'].unique()"
      ],
      "execution_count": null,
      "outputs": [
        {
          "output_type": "execute_result",
          "data": {
            "text/plain": [
              "array([5, 6, 7, 4, 8, 3])"
            ]
          },
          "metadata": {},
          "execution_count": 111
        }
      ]
    },
    {
      "cell_type": "code",
      "metadata": {
        "colab": {
          "base_uri": "https://localhost:8080/",
          "height": 351
        },
        "id": "Q6emURS5CJGM",
        "outputId": "72db71cd-1f7b-46f3-f1e9-d4f384642f04"
      },
      "source": [
        "# volatile acidity vs Quality\n",
        "plot = plt.figure(figsize=(5,5))\n",
        "sns.barplot(x='quality', y = 'alcohol', data = df1)"
      ],
      "execution_count": null,
      "outputs": [
        {
          "output_type": "execute_result",
          "data": {
            "text/plain": [
              "<matplotlib.axes._subplots.AxesSubplot at 0x7f697e2bf290>"
            ]
          },
          "metadata": {},
          "execution_count": 112
        },
        {
          "output_type": "display_data",
          "data": {
            "image/png": "[encoded data removed]",
            "text/plain": [
              "<Figure size 360x360 with 1 Axes>"
            ]
          },
          "metadata": {
            "needs_background": "light"
          }
        }
      ]
    },
    {
      "cell_type": "code",
      "metadata": {
        "colab": {
          "base_uri": "https://localhost:8080/",
          "height": 652
        },
        "id": "klH2EW-OCJIU",
        "outputId": "fa396c00-193f-4642-96d7-41c366a01231"
      },
      "source": [
        "# positive and negative correlation\n",
        "correlation = df1.corr()\n",
        "# constructing a heatmap to understand the correlation between the columns\n",
        "plt.figure(figsize=(10,10))\n",
        "sns.heatmap(correlation, cbar=True, square=True, fmt = '.1f', annot = True, annot_kws={'size':8}, cmap = 'Blues')"
      ],
      "execution_count": null,
      "outputs": [
        {
          "output_type": "execute_result",
          "data": {
            "text/plain": [
              "<matplotlib.axes._subplots.AxesSubplot at 0x7f697e176350>"
            ]
          },
          "metadata": {},
          "execution_count": 113
        },
        {
          "output_type": "display_data",
          "data": {
            "image/png": "[encoded data removed]",
            "text/plain": [
              "<Figure size 720x720 with 2 Axes>"
            ]
          },
          "metadata": {
            "needs_background": "light"
          }
        }
      ]
    },
    {
      "cell_type": "code",
      "metadata": {
        "id": "RHw2DN7KCJK0"
      },
      "source": [
        "X = df1.drop('quality',axis=1)\n",
        "Y = df1['quality']\n",
        "# spliting into train and test set\n",
        "X_train, X_test, Y_train, Y_test = train_test_split(X, Y, test_size=0.2)"
      ],
      "execution_count": null,
      "outputs": []
    },
    {
      "cell_type": "code",
      "metadata": {
        "colab": {
          "base_uri": "https://localhost:8080/"
        },
        "id": "lkABOZtICJNH",
        "outputId": "7d988990-253d-44dd-d381-e8e3485c3c8c"
      },
      "source": [
        "# Build the linear regression model using LinearRegression()\n",
        "linear_regressor = LinearRegression()\n",
        "# Fit the model to our training data\n",
        "linear_regressor.fit(X_train, Y_train)\n",
        "# Print the values of coefficients of each feature\n",
        "features=df1.loc[0].drop(['quality'])\n",
        "coeffecients = pd.DataFrame(linear_regressor.coef_,features)\n",
        "coeffecients.columns=['cofffecients']\n",
        "print(coeffecients)\n",
        "print(\"\\nintercept :\",linear_regressor.intercept_)"
      ],
      "execution_count": null,
      "outputs": [
        {
          "output_type": "stream",
          "name": "stdout",
          "text": [
            "         cofffecients\n",
            "0                    \n",
            "7.4000      -0.000165\n",
            "0.7000      -0.998502\n",
            "0.0000      -0.048217\n",
            "1.9000       0.005794\n",
            "0.0760      -2.295176\n",
            "11.0000      0.003993\n",
            "34.0000     -0.003098\n",
            "0.9978      -7.584171\n",
            "3.5100      -0.490698\n",
            "0.5600       0.935885\n",
            "9.4000       0.282872\n",
            "\n",
            "intercept : 12.069991033367444\n"
          ]
        }
      ]
    },
    {
      "cell_type": "code",
      "metadata": {
        "id": "J-idWsUlCJPr"
      },
      "source": [
        "# predicting output for train and test samples\n",
        "linear_train_pred = linear_regressor.predict(X_train)\n",
        "linear_test_pred = linear_regressor.predict(X_test)"
      ],
      "execution_count": null,
      "outputs": []
    },
    {
      "cell_type": "code",
      "metadata": {
        "colab": {
          "base_uri": "https://localhost:8080/"
        },
        "id": "Lu-UsqDpCJSC",
        "outputId": "8153a476-c892-473b-cb63-b13e5aaa1291"
      },
      "source": [
        "# The MSE for training and testing sets need to be similar for good model\n",
        "linear_mse_train = metrics.mean_squared_error(linear_train_pred,Y_train)\n",
        "linear_mse_test = metrics.mean_squared_error(linear_test_pred, Y_test)\n",
        "print(\"tain_mse: \",linear_mse_train)\n",
        "print(\"test_mse: \",linear_mse_test)"
      ],
      "execution_count": null,
      "outputs": [
        {
          "output_type": "stream",
          "name": "stdout",
          "text": [
            "tain_mse:  0.41896191840120967\n",
            "test_mse:  0.41188052273565223\n"
          ]
        }
      ]
    },
    {
      "cell_type": "code",
      "metadata": {
        "colab": {
          "base_uri": "https://localhost:8080/"
        },
        "id": "svyq4FLkCJUW",
        "outputId": "d3a325a6-f543-41ff-9a94-ad3336caefcc"
      },
      "source": [
        "linear_test_predicted_data = np.round_(linear_test_pred)\n",
        "test_data_accuracy = accuracy_score(linear_test_predicted_data, Y_test)\n",
        "print(\"accuracy of testing set :\",test_data_accuracy)\n",
        "linear_train_predicted_data = np.round_(linear_train_pred)\n",
        "train_data_accuracy = accuracy_score(linear_train_predicted_data,Y_train)\n",
        "print(\"accuracy of training set :\",train_data_accuracy)"
      ],
      "execution_count": null,
      "outputs": [
        {
          "output_type": "stream",
          "name": "stdout",
          "text": [
            "accuracy of testing set : 0.56875\n",
            "accuracy of training set : 0.602814698983581\n"
          ]
        }
      ]
    },
    {
      "cell_type": "code",
      "metadata": {
        "colab": {
          "base_uri": "https://localhost:8080/"
        },
        "id": "7E_zfnmgCIDj",
        "outputId": "c8ddac2e-5448-48a7-c180-962009c5b3c7"
      },
      "source": [
        "# Calculating other error functions\n",
        "print('Mean Absolute Error:', metrics.mean_absolute_error(linear_test_pred, Y_test))\n",
        "print('Mean Squared Error:', metrics.mean_squared_error(linear_test_pred, Y_test))\n",
        "print('Root Mean Squared Error:', np.sqrt(metrics.mean_squared_error(linear_test_pred, Y_test)))\n"
      ],
      "execution_count": null,
      "outputs": [
        {
          "output_type": "stream",
          "name": "stdout",
          "text": [
            "Mean Absolute Error: 0.5134696934943593\n",
            "Mean Squared Error: 0.41188052273565223\n",
            "Root Mean Squared Error: 0.641779185339983\n"
          ]
        }
      ]
    },
    {
      "cell_type": "markdown",
      "metadata": {
        "id": "RcUZHK8AD48u"
      },
      "source": [
        "**Using  implemented  Linear  Regression** **mode**"
      ]
    },
    {
      "cell_type": "code",
      "metadata": {
        "id": "A4yrppy7CIF1"
      },
      "source": [
        "import numpy as np\n",
        "import pandas as pd\n",
        "import matplotlib.pyplot as plt\n",
        "import seaborn as sns\n",
        "\n",
        "\n",
        "df1 = pd.read_csv('winequality-red.csv')\n",
        "df = pd.DataFrame()\n",
        "df[0] = [1 for i in range(len(df1))]\n",
        "for i in range(df1.columns.size):\n",
        "  df[i+1] = df1.iloc[:,i]\n",
        "\n",
        "# before normalization\n",
        "# print(df.head())\n",
        "\n",
        "# Normalising data\n",
        "list1 = []\n",
        "maxval = -1\n",
        "for i in range(df.columns.size-1):\n",
        "  maxval = max(maxval,df[i].max())\n",
        "for i in range(1,df.columns.size-1):\n",
        "  df[i] = df[i]/maxval\n",
        "\n",
        "# spliting into train,validation,test set\n",
        "train_set = df.sample(frac=0.6)\n",
        "remaining = df.drop(train_set.index)\n",
        "validation_set = remaining.sample(frac=0.4)\n",
        "test_set = remaining.drop(validation_set.index)\n",
        "\n",
        "# after normalization\n",
        "# print(df.head())"
      ],
      "execution_count": null,
      "outputs": []
    },
    {
      "cell_type": "code",
      "metadata": {
        "colab": {
          "base_uri": "https://localhost:8080/",
          "height": 315
        },
        "id": "xevY0Y3VCIJY",
        "outputId": "a8c4966d-d2fe-4463-9864-c67985690345"
      },
      "source": [
        "df.describe()"
      ],
      "execution_count": null,
      "outputs": [
        {
          "output_type": "execute_result",
          "data": {
            "text/html": [
              "<div>\n",
              "<style scoped>\n",
              "    .dataframe tbody tr th:only-of-type {\n",
              "        vertical-align: middle;\n",
              "    }\n",
              "\n",
              "    .dataframe tbody tr th {\n",
              "        vertical-align: top;\n",
              "    }\n",
              "\n",
              "    .dataframe thead th {\n",
              "        text-align: right;\n",
              "    }\n",
              "</style>\n",
              "<table border=\"1\" class=\"dataframe\">\n",
              "  <thead>\n",
              "    <tr style=\"text-align: right;\">\n",
              "      <th></th>\n",
              "      <th>0</th>\n",
              "      <th>1</th>\n",
              "      <th>2</th>\n",
              "      <th>3</th>\n",
              "      <th>4</th>\n",
              "      <th>5</th>\n",
              "      <th>6</th>\n",
              "      <th>7</th>\n",
              "      <th>8</th>\n",
              "      <th>9</th>\n",
              "      <th>10</th>\n",
              "      <th>11</th>\n",
              "      <th>12</th>\n",
              "    </tr>\n",
              "  </thead>\n",
              "  <tbody>\n",
              "    <tr>\n",
              "      <th>count</th>\n",
              "      <td>1599.0</td>\n",
              "      <td>1599.000000</td>\n",
              "      <td>1599.000000</td>\n",
              "      <td>1599.000000</td>\n",
              "      <td>1599.000000</td>\n",
              "      <td>1599.000000</td>\n",
              "      <td>1599.000000</td>\n",
              "      <td>1599.000000</td>\n",
              "      <td>1599.000000</td>\n",
              "      <td>1599.000000</td>\n",
              "      <td>1599.000000</td>\n",
              "      <td>1599.000000</td>\n",
              "      <td>1599.000000</td>\n",
              "    </tr>\n",
              "    <tr>\n",
              "      <th>mean</th>\n",
              "      <td>1.0</td>\n",
              "      <td>0.028788</td>\n",
              "      <td>0.001826</td>\n",
              "      <td>0.000938</td>\n",
              "      <td>0.008785</td>\n",
              "      <td>0.000303</td>\n",
              "      <td>0.054931</td>\n",
              "      <td>0.160788</td>\n",
              "      <td>0.003449</td>\n",
              "      <td>0.011457</td>\n",
              "      <td>0.002277</td>\n",
              "      <td>0.036066</td>\n",
              "      <td>5.636023</td>\n",
              "    </tr>\n",
              "    <tr>\n",
              "      <th>std</th>\n",
              "      <td>0.0</td>\n",
              "      <td>0.006025</td>\n",
              "      <td>0.000620</td>\n",
              "      <td>0.000674</td>\n",
              "      <td>0.004879</td>\n",
              "      <td>0.000163</td>\n",
              "      <td>0.036194</td>\n",
              "      <td>0.113825</td>\n",
              "      <td>0.000007</td>\n",
              "      <td>0.000534</td>\n",
              "      <td>0.000587</td>\n",
              "      <td>0.003687</td>\n",
              "      <td>0.807569</td>\n",
              "    </tr>\n",
              "    <tr>\n",
              "      <th>min</th>\n",
              "      <td>1.0</td>\n",
              "      <td>0.015917</td>\n",
              "      <td>0.000415</td>\n",
              "      <td>0.000000</td>\n",
              "      <td>0.003114</td>\n",
              "      <td>0.000042</td>\n",
              "      <td>0.003460</td>\n",
              "      <td>0.020761</td>\n",
              "      <td>0.003426</td>\n",
              "      <td>0.009481</td>\n",
              "      <td>0.001142</td>\n",
              "      <td>0.029066</td>\n",
              "      <td>3.000000</td>\n",
              "    </tr>\n",
              "    <tr>\n",
              "      <th>25%</th>\n",
              "      <td>1.0</td>\n",
              "      <td>0.024567</td>\n",
              "      <td>0.001349</td>\n",
              "      <td>0.000311</td>\n",
              "      <td>0.006574</td>\n",
              "      <td>0.000242</td>\n",
              "      <td>0.024221</td>\n",
              "      <td>0.076125</td>\n",
              "      <td>0.003445</td>\n",
              "      <td>0.011107</td>\n",
              "      <td>0.001903</td>\n",
              "      <td>0.032872</td>\n",
              "      <td>5.000000</td>\n",
              "    </tr>\n",
              "    <tr>\n",
              "      <th>50%</th>\n",
              "      <td>1.0</td>\n",
              "      <td>0.027336</td>\n",
              "      <td>0.001799</td>\n",
              "      <td>0.000900</td>\n",
              "      <td>0.007612</td>\n",
              "      <td>0.000273</td>\n",
              "      <td>0.048443</td>\n",
              "      <td>0.131488</td>\n",
              "      <td>0.003449</td>\n",
              "      <td>0.011453</td>\n",
              "      <td>0.002145</td>\n",
              "      <td>0.035294</td>\n",
              "      <td>6.000000</td>\n",
              "    </tr>\n",
              "    <tr>\n",
              "      <th>75%</th>\n",
              "      <td>1.0</td>\n",
              "      <td>0.031834</td>\n",
              "      <td>0.002215</td>\n",
              "      <td>0.001453</td>\n",
              "      <td>0.008997</td>\n",
              "      <td>0.000311</td>\n",
              "      <td>0.072664</td>\n",
              "      <td>0.214533</td>\n",
              "      <td>0.003453</td>\n",
              "      <td>0.011765</td>\n",
              "      <td>0.002526</td>\n",
              "      <td>0.038408</td>\n",
              "      <td>6.000000</td>\n",
              "    </tr>\n",
              "    <tr>\n",
              "      <th>max</th>\n",
              "      <td>1.0</td>\n",
              "      <td>0.055017</td>\n",
              "      <td>0.005467</td>\n",
              "      <td>0.003460</td>\n",
              "      <td>0.053633</td>\n",
              "      <td>0.002114</td>\n",
              "      <td>0.249135</td>\n",
              "      <td>1.000000</td>\n",
              "      <td>0.003473</td>\n",
              "      <td>0.013875</td>\n",
              "      <td>0.006920</td>\n",
              "      <td>0.051557</td>\n",
              "      <td>8.000000</td>\n",
              "    </tr>\n",
              "  </tbody>\n",
              "</table>\n",
              "</div>"
            ],
            "text/plain": [
              "           0            1            2   ...           10           11           12\n",
              "count  1599.0  1599.000000  1599.000000  ...  1599.000000  1599.000000  1599.000000\n",
              "mean      1.0     0.028788     0.001826  ...     0.002277     0.036066     5.636023\n",
              "std       0.0     0.006025     0.000620  ...     0.000587     0.003687     0.807569\n",
              "min       1.0     0.015917     0.000415  ...     0.001142     0.029066     3.000000\n",
              "25%       1.0     0.024567     0.001349  ...     0.001903     0.032872     5.000000\n",
              "50%       1.0     0.027336     0.001799  ...     0.002145     0.035294     6.000000\n",
              "75%       1.0     0.031834     0.002215  ...     0.002526     0.038408     6.000000\n",
              "max       1.0     0.055017     0.005467  ...     0.006920     0.051557     8.000000\n",
              "\n",
              "[8 rows x 13 columns]"
            ]
          },
          "metadata": {},
          "execution_count": 122
        }
      ]
    },
    {
      "cell_type": "code",
      "metadata": {
        "id": "rnHkQ0mhEke7"
      },
      "source": [
        "class Linear_regression2 : \n",
        "  def __init__(self,alpha,rho,epoch,data):\n",
        "    self.alpha,self.rho,self.epoch=alpha,rho,epoch\n",
        "    self.data = data\n",
        "    self.m = len(self.data)\n",
        "    self.n = data.columns.size\n",
        "    arr = np.random.uniform(-0.3,0.3,self.n-1)\n",
        "    self.w = pd.Series(arr)\n",
        "    self.error = [0.0]\n",
        "    self.Y_Predict = self.predict()\n",
        "\n",
        "  def iterate(self):\n",
        "    i=0\n",
        "    error_dif = self.cur_error() - self.error[len(self.error)-1]\n",
        "    while((i<self.epoch and error_dif>self.rho) or i==0):\n",
        "      self.update()\n",
        "      i+=1\n",
        "      self.error.append(self.cur_error())\n",
        "  \n",
        "  def update(self):\n",
        "    self.Y_Predict = self.predict()\n",
        "    for i in range(len(self.w)):\n",
        "      self.w[i]=self.w[i]-(self.alpha/self.m)*((self.Y_Predict-self.data[self.n-1]).dot(self.data[i]))\n",
        "    # for i in range (self.m):\n",
        "    #   for j in range (len(self.w)):\n",
        "    #      self.w[j]=self.w[j]-(self.alpha)*((self.Y_Predict[i]-self.data.iloc[i,self.n-1]))*self.data.iloc[i,j]\n",
        "      \n",
        "     \n",
        "  def predict(self):\n",
        "    arr =[]\n",
        "    for i in range (self.m):\n",
        "      temp=pd.Series(self.data.iloc[i])\n",
        "      temp.pop(self.n-1)\n",
        "      arr.append(temp.dot(self.w))\n",
        "    return arr\n",
        "\n",
        "  def cur_error(self):\n",
        "    psum=0\n",
        "    for i in range(self.m):\n",
        "      psum = psum  + (self.Y_Predict[i]-self.data.iloc[i,self.n-1])**2\n",
        "    psum = psum/(2*self.m)\n",
        "    return psum"
      ],
      "execution_count": null,
      "outputs": []
    },
    {
      "cell_type": "code",
      "metadata": {
        "id": "6CxNxrHbEkgT"
      },
      "source": [
        "rho_arr = [0.8,0.5,0.9,0.6,0.7]\n",
        "alpha_arr = [0.015,0.005,0.03,0.02,0.01]\n",
        "epoch_arr = [160,155,130,150,140]\n",
        "\n",
        "w_arr = []\n",
        "error_arr = []\n",
        "\n",
        "for i in range(5):\n",
        "  model = Linear_regression2(alpha_arr[i],rho_arr[i],epoch_arr[i],train_set)\n",
        "  model.iterate()\n",
        "  w_arr.append(model.w)\n",
        "  error_arr.append(model.cur_error())"
      ],
      "execution_count": null,
      "outputs": []
    },
    {
      "cell_type": "code",
      "metadata": {
        "colab": {
          "base_uri": "https://localhost:8080/"
        },
        "id": "oWKwHdewEkha",
        "outputId": "458267f5-c622-468f-87f4-0726496c8c9a"
      },
      "source": [
        "print(w_arr)\n",
        "print(error_arr)"
      ],
      "execution_count": null,
      "outputs": [
        {
          "output_type": "stream",
          "name": "stdout",
          "text": [
            "[0     5.054561\n",
            "1    -0.061431\n",
            "2     0.293521\n",
            "3    -0.077038\n",
            "4     0.034280\n",
            "5    -0.146711\n",
            "6     0.250273\n",
            "7     0.618649\n",
            "8     0.009849\n",
            "9    -0.171357\n",
            "10    0.160408\n",
            "11    0.003445\n",
            "dtype: float64, 0     3.046228\n",
            "1     0.182646\n",
            "2    -0.109435\n",
            "3    -0.059278\n",
            "4     0.182195\n",
            "5    -0.120795\n",
            "6     0.264128\n",
            "7     0.351136\n",
            "8     0.129925\n",
            "9    -0.093214\n",
            "10   -0.127755\n",
            "11    0.013217\n",
            "dtype: float64, 0     5.353384\n",
            "1     0.028302\n",
            "2     0.299278\n",
            "3    -0.031828\n",
            "4    -0.174341\n",
            "5    -0.288673\n",
            "6     0.433343\n",
            "7     0.844178\n",
            "8    -0.003897\n",
            "9    -0.060152\n",
            "10    0.240555\n",
            "11    0.250939\n",
            "dtype: float64, 0     5.173270\n",
            "1     0.183916\n",
            "2     0.159662\n",
            "3    -0.144704\n",
            "4    -0.049136\n",
            "5    -0.135856\n",
            "6     0.389301\n",
            "7     1.009681\n",
            "8    -0.000676\n",
            "9     0.110402\n",
            "10   -0.017904\n",
            "11    0.171339\n",
            "dtype: float64, 0     4.246606\n",
            "1     0.387475\n",
            "2     0.183313\n",
            "3    -0.027482\n",
            "4     0.032567\n",
            "5     0.121757\n",
            "6     0.048215\n",
            "7     0.393997\n",
            "8     0.160455\n",
            "9    -0.084780\n",
            "10   -0.286559\n",
            "11   -0.147957\n",
            "dtype: float64]\n",
            "[0.4529179553827492, 3.4892859932342484, 0.3581546354009296, 0.3908313415968123, 1.2054327153157451]\n"
          ]
        }
      ]
    },
    {
      "cell_type": "code",
      "metadata": {
        "id": "cCB8y0CnEkjJ"
      },
      "source": [
        "def find_error(w,dataframe):\n",
        "  tarr = w.values\n",
        "  w = pd.DataFrame(tarr.reshape(w.size,1))\n",
        "  tempdf = dataframe.drop(columns=[dataframe.columns.size-1])\n",
        "  predict =  tempdf.dot(w)\n",
        "  psum=0\n",
        "  for i in range(len(dataframe)):\n",
        "    psum=psum + (predict.iloc[i,0]-dataframe.iloc[i,dataframe.columns.size-1])**2\n",
        "  \n",
        "  psum = 1/(2*(len(dataframe)))*psum\n",
        "  return psum"
      ],
      "execution_count": null,
      "outputs": []
    },
    {
      "cell_type": "code",
      "metadata": {
        "id": "75VlCIcAEknR"
      },
      "source": [
        "# initialising 0th index as best then iterating to find best one (best w => best alpha)\n",
        "best = 0\n",
        "min_error = find_error(w_arr[0],validation_set)\n",
        "for i in range(1,5):\n",
        "  e=find_error(w_arr[i],validation_set)\n",
        "  if min_error-e>0:\n",
        "    min_error=e\n",
        "    best=i"
      ],
      "execution_count": null,
      "outputs": []
    },
    {
      "cell_type": "markdown",
      "metadata": {
        "id": "vQyIYqzDFAHm"
      },
      "source": [
        "Results"
      ]
    },
    {
      "cell_type": "code",
      "metadata": {
        "colab": {
          "base_uri": "https://localhost:8080/"
        },
        "id": "cIi1VC_PEkpj",
        "outputId": "0ce27c5f-53a9-415a-8e23-6d3d00cd7780"
      },
      "source": [
        "# prints the best index\n",
        "print(best)"
      ],
      "execution_count": null,
      "outputs": [
        {
          "output_type": "stream",
          "name": "stdout",
          "text": [
            "2\n"
          ]
        }
      ]
    },
    {
      "cell_type": "markdown",
      "metadata": {
        "id": "BIXnKurOFjWx"
      },
      "source": [
        "Finding MSE for different hyperparameters."
      ]
    },
    {
      "cell_type": "code",
      "metadata": {
        "colab": {
          "base_uri": "https://localhost:8080/"
        },
        "id": "x8Akth1HEktD",
        "outputId": "715f6a9a-f98e-46e3-c545-2c9545374ed8"
      },
      "source": [
        "print(\"MSE for train,validation,test set with different set of hyper parameters\\n\")\n",
        "print(\"     Train set             Validation set               Test set\")\n",
        "for i in range(0,5):\n",
        "  e1=find_error(w_arr[i],train_set)\n",
        "  e2=find_error(w_arr[i],validation_set)\n",
        "  e3=find_error(w_arr[i],test_set)\n",
        "  print(e1,\"     \",e2,\"       \",e3)"
      ],
      "execution_count": null,
      "outputs": [
        {
          "output_type": "stream",
          "name": "stdout",
          "text": [
            "MSE for train,validation,test set with different set of hyper parameters\n",
            "\n",
            "     Train set             Validation set               Test set\n",
            "0.4496916638621648       0.42662579560038355         0.4687953149144022\n",
            "3.4569753318167735       3.464783525914629         3.5893691584616345\n",
            "0.3578412414774289       0.3268469502526114         0.3575060328738431\n",
            "0.38952821043618524       0.3592845578205362         0.3975673462855909\n",
            "1.1877675261613099       1.1792957005406868         1.2542111928246484\n"
          ]
        }
      ]
    },
    {
      "cell_type": "markdown",
      "metadata": {
        "id": "QOrEdaELFUmr"
      },
      "source": [
        "Finding Accuracy with different combination of rho,alpha and epoch"
      ]
    },
    {
      "cell_type": "code",
      "metadata": {
        "id": "qcg6zyUXFNhB"
      },
      "source": [
        "def prediction(w,data):\n",
        "  arr=[]\n",
        "  for i in range(len(data)):\n",
        "    temp1=pd.Series(w)\n",
        "    temp2=data.iloc[i,:].drop([12])\n",
        "    arr.append(temp2.dot(temp1))\n",
        "  return arr"
      ],
      "execution_count": null,
      "outputs": []
    },
    {
      "cell_type": "code",
      "metadata": {
        "colab": {
          "base_uri": "https://localhost:8080/"
        },
        "id": "aDRRGvLeFNjU",
        "outputId": "2379eda0-4ad8-4980-8a88-475e4b2f6256"
      },
      "source": [
        "for i in range(0,5):\n",
        "  predicted_values1=np.round_(prediction(w_arr[i],train_set))\n",
        "  predicted_values2=np.round_(prediction(w_arr[i],validation_set))\n",
        "  predicted_values3=np.round_(prediction(w_arr[i],test_set))\n",
        "\n",
        "  total_ct1 = len(train_set)\n",
        "  correct_ct1 = 0\n",
        "  total_ct2 = len(validation_set)\n",
        "  correct_ct2 = 0\n",
        "  total_ct3 = len(test_set)\n",
        "  correct_ct3 = 0\n",
        "  for i in range(len(train_set)):\n",
        "    if(train_set.iloc[i][len(df.columns)-1]==predicted_values1[i]):\n",
        "      correct_ct1+=1\n",
        "  for i in range(len(validation_set)):\n",
        "    if(validation_set.iloc[i][len(df.columns)-1]==predicted_values2[i]):\n",
        "      correct_ct2+=1\n",
        "  for i in range(len(test_set)):\n",
        "    if(test_set.iloc[i][len(df.columns)-1]==predicted_values3[i]):\n",
        "      correct_ct3+=1\n",
        "  \n",
        "  print(\"Accuracy1 : \",(correct_ct1/total_ct1)*100)\n",
        "  print(\"Accuracy2 : \",(correct_ct2/total_ct2)*100)\n",
        "  print(\"Accuracy3 : \",(correct_ct3/total_ct3)*100)\n",
        "  print(\"------------------------------------------\")"
      ],
      "execution_count": null,
      "outputs": [
        {
          "output_type": "stream",
          "name": "stdout",
          "text": [
            "Accuracy1 :  43.691345151199165\n",
            "Accuracy2 :  41.796875\n",
            "Accuracy3 :  40.36458333333333\n",
            "------------------------------------------\n",
            "Accuracy1 :  0.8342022940563086\n",
            "Accuracy2 :  0.390625\n",
            "Accuracy3 :  0.26041666666666663\n",
            "------------------------------------------\n",
            "Accuracy1 :  34.41084462982273\n",
            "Accuracy2 :  43.359375\n",
            "Accuracy3 :  35.41666666666667\n",
            "------------------------------------------\n",
            "Accuracy1 :  35.66214807090719\n",
            "Accuracy2 :  38.671875\n",
            "Accuracy3 :  30.989583333333332\n",
            "------------------------------------------\n",
            "Accuracy1 :  3.1282586027111576\n",
            "Accuracy2 :  3.515625\n",
            "Accuracy3 :  3.6458333333333335\n",
            "------------------------------------------\n"
          ]
        }
      ]
    },
    {
      "cell_type": "code",
      "metadata": {
        "id": "drA6Nru4FNlj"
      },
      "source": [
        ""
      ],
      "execution_count": null,
      "outputs": []
    },
    {
      "cell_type": "code",
      "metadata": {
        "id": "iUHs9s4IFNnx"
      },
      "source": [
        ""
      ],
      "execution_count": null,
      "outputs": []
    },
    {
      "cell_type": "code",
      "metadata": {
        "id": "y79trYgGFNrO"
      },
      "source": [
        ""
      ],
      "execution_count": null,
      "outputs": []
    }
  ]
}